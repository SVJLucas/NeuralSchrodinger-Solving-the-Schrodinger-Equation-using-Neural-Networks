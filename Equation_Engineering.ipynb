{
  "nbformat": 4,
  "nbformat_minor": 0,
  "metadata": {
    "colab": {
      "provenance": [],
      "authorship_tag": "ABX9TyPc9k4WZDjqcVa7yG5yeGLD",
      "include_colab_link": true
    },
    "kernelspec": {
      "name": "python3",
      "display_name": "Python 3"
    },
    "language_info": {
      "name": "python"
    }
  },
  "cells": [
    {
      "cell_type": "markdown",
      "metadata": {
        "id": "view-in-github",
        "colab_type": "text"
      },
      "source": [
        "<a href=\"https://colab.research.google.com/github/SVJLucas/NeuralSchrodinger-Solving-the-Schrodinger-Equation-using-Neural-Networks/blob/main/Equation_Engineering.ipynb\" target=\"_parent\"><img src=\"https://colab.research.google.com/assets/colab-badge.svg\" alt=\"Open In Colab\"/></a>"
      ]
    },
    {
      "cell_type": "markdown",
      "source": [
        "## Equation Engineering"
      ],
      "metadata": {
        "id": "vYecguLZfqKL"
      }
    },
    {
      "cell_type": "markdown",
      "source": [
        "\\begin{align}\n",
        "i ℏ\n",
        "\\frac{∂Ψ(t,r,θ,φ)}{∂t}=V(t,r,θ,φ)\\cdot Ψ(t,r,θ,φ) -\\frac{ℏ^2}{2m} ∇^2 Ψ(t,r,θ,φ)\n",
        "\\end{align}"
      ],
      "metadata": {
        "id": "LSHq8Ezz58oj"
      }
    },
    {
      "cell_type": "markdown",
      "source": [
        "The Schrodinger equation, as it is given, is not properly suited for use in a neural network. This is because the equation involves complex numbers, which can be challenging to work with in a neural network. Additionally, there is the question of which system of units to use for the various constants and other arguments in the equation. All of these factors make it difficult to use the Schrodinger equation as it is in a neural network. So, first, let's do *Equation Engineering*, to make it more like a output of a neural network."
      ],
      "metadata": {
        "id": "T0Q3CJcSRRVn"
      }
    },
    {
      "cell_type": "markdown",
      "source": [
        "### Writing the equation"
      ],
      "metadata": {
        "id": "Lo-5q0wbRvMJ"
      }
    },
    {
      "cell_type": "markdown",
      "source": [
        "We will be using the Python library Sympy to write the Schrodinger equation for the hydrogen atom. However, before we do that, we need to define the necessary physical constants, such as the electron mass and the elementary charge, and we also need to write a function that calculates the Laplacian in spherical coordinates, which is used in the Schrodinger equation. This will allow us to write the equation in a way that is compatible with numerical methods, such as those used in neural networks."
      ],
      "metadata": {
        "id": "HFnG0HXXmr8L"
      }
    },
    {
      "cell_type": "code",
      "execution_count": 1,
      "metadata": {
        "id": "vuvMkZEhe_qD"
      },
      "outputs": [],
      "source": [
        "import sympy as sp"
      ]
    },
    {
      "cell_type": "markdown",
      "source": [
        "Defining the constants:"
      ],
      "metadata": {
        "id": "isbSLqOInYuf"
      }
    },
    {
      "cell_type": "code",
      "source": [
        "i = sp.I\n",
        "t,r,θ,φ,μ,ħ,e,ɛ_0 = sp.symbols('t r θ φ μ ℏ e ɛ_0',real=True,positive=True)\n",
        "Ψ,Ψ_re,Ψ_im,V,Δ = sp.symbols('Ψ Ψ_re Ψ_im V Δ',cls=sp.Function,real=True)\n",
        "Ψ = Ψ(t,r,θ,φ)\n",
        "Ψ_re = Ψ_re(t,r,θ,φ)\n",
        "Ψ_im = Ψ_im(t,r,θ,φ)\n",
        "V = V(t,r,θ,φ)"
      ],
      "metadata": {
        "id": "pN4YuqUAfY_i"
      },
      "execution_count": 132,
      "outputs": []
    },
    {
      "cell_type": "markdown",
      "source": [
        "Defining the Laplacian:"
      ],
      "metadata": {
        "id": "cc0bkwcQnbGW"
      }
    },
    {
      "cell_type": "code",
      "source": [
        "def Δ(r, θ, φ, Ψ):\n",
        "\n",
        "    \"\"\"\n",
        "    Calculates the Laplacian operator (∇²) on the function Ψ, given the spherical coordinates r, θ, and φ.\n",
        "\n",
        "    Parameters:\n",
        "        r (sympy.core.symbol.Symbol): The radial coordinate in spherical coordinates.\n",
        "        θ (sympy.core.symbol.Symbol): The polar angle coordinate in spherical coordinates.\n",
        "        φ (sympy.core.symbol.Symbol): The azimuthal angle coordinate in spherical coordinates.\n",
        "        Ψ (sympy.core.function.Function): The function on which to operate the Laplacian operator.\n",
        "\n",
        "    Returns:\n",
        "        sympy.core.expr.Expr: The result of applying the Laplacian operator to Ψ.\n",
        "\n",
        "    \"\"\"\n",
        "\n",
        "    # Calculate the first term of the Laplacian operator\n",
        "    r_term = (1 / r**2) * sp.Derivative((r**2) * sp.Derivative(Ψ, r), r)\n",
        "\n",
        "    # Calculate the second term of the Laplacian operator\n",
        "    θ_term = (1 / ((r**2) * sp.sin(θ))) * sp.Derivative(sp.sin(θ) * sp.Derivative(Ψ, θ), θ)\n",
        "\n",
        "    # Calculate the third term of the Laplacian operator\n",
        "    φ_term = (1 / ((r**2) * sp.sin(θ)**2)) * sp.Derivative(Ψ, (φ, 2))\n",
        "\n",
        "    # Return the sum of all three terms\n",
        "    return r_term + θ_term + φ_term"
      ],
      "metadata": {
        "id": "wB_P9dx-jPhb"
      },
      "execution_count": 159,
      "outputs": []
    },
    {
      "cell_type": "markdown",
      "source": [
        "Now we can write the Schrödinger's Equation:"
      ],
      "metadata": {
        "id": "mCbPjspZnfxh"
      }
    },
    {
      "cell_type": "code",
      "source": [
        "schrodinger = sp.Eq(i*ħ*sp.Derivative(Ψ,t),(-((ħ**2)/(2*μ)*Δ(r,θ,φ,Ψ))+V*Ψ).expand())\n",
        "schrodinger"
      ],
      "metadata": {
        "colab": {
          "base_uri": "https://localhost:8080/",
          "height": 66
        },
        "id": "jcifB54AfyQ9",
        "outputId": "f77fd450-b332-43f9-a17e-d06561df3d48"
      },
      "execution_count": 160,
      "outputs": [
        {
          "output_type": "execute_result",
          "data": {
            "text/plain": [
              "Eq(I*ℏ*Derivative(Ψ(t, r, θ, φ), t), V(t, r, θ, φ)*Ψ(t, r, θ, φ) - ℏ**2*Derivative(r**2*Derivative(Ψ(t, r, θ, φ), r), r)/(2*r**2*μ) - ℏ**2*Derivative(sin(θ)*Derivative(Ψ(t, r, θ, φ), θ), θ)/(2*r**2*μ*sin(θ)) - ℏ**2*Derivative(Ψ(t, r, θ, φ), (φ, 2))/(2*r**2*μ*sin(θ)**2))"
            ],
            "text/latex": "$\\displaystyle i ℏ \\frac{\\partial}{\\partial t} Ψ{\\left(t,r,θ,φ \\right)} = V{\\left(t,r,θ,φ \\right)} Ψ{\\left(t,r,θ,φ \\right)} - \\frac{ℏ^{2} \\frac{\\partial}{\\partial r} r^{2} \\frac{\\partial}{\\partial r} Ψ{\\left(t,r,θ,φ \\right)}}{2 r^{2} μ} - \\frac{ℏ^{2} \\frac{\\partial}{\\partial θ} \\sin{\\left(θ \\right)} \\frac{\\partial}{\\partial θ} Ψ{\\left(t,r,θ,φ \\right)}}{2 r^{2} μ \\sin{\\left(θ \\right)}} - \\frac{ℏ^{2} \\frac{\\partial^{2}}{\\partial φ^{2}} Ψ{\\left(t,r,θ,φ \\right)}}{2 r^{2} μ \\sin^{2}{\\left(θ \\right)}}$"
          },
          "metadata": {},
          "execution_count": 160
        }
      ]
    },
    {
      "cell_type": "markdown",
      "source": [
        "### The Potencial"
      ],
      "metadata": {
        "id": "vkNdMRAq42aD"
      }
    },
    {
      "cell_type": "markdown",
      "source": [
        "\n",
        "\n",
        "The Schrödinger equation for the hydrogen atom is a fundamental equation in quantum mechanics that describes the behavior of the electron in the this atom. The potential used in the Schrödinger equation in this case is the Coulomb potential, which is generated by the positively charged nucleus of the hydrogen atom. The Coulomb potential is a classical potential that is proportional to the inverse of the distance between the electron and the nucleus, and it is given by the expression:\n",
        "\n",
        "\\begin{align}\n",
        "V(t,r,θ,φ) = -\\frac{e}{4 \\pi ɛ_0 r}\n",
        "\\end{align}\n",
        "\n",
        "Where $e$ is the charge of the electron, $ε_0$ is the permittivity of free space, and $r$ is the distance between the electron and the nucleus. This potential plays a key role in determining the energy levels and wave functions of the electron in the hydrogen atom, and it is responsible for the formation of the bound states of the atom. The solution of the Schrödinger equation for the hydrogen provides a detailed description of the electronic structure of the simplest atom, and it forms the basis for our understanding of more complex atoms and molecules.\n"
      ],
      "metadata": {
        "id": "bTgsN4k4lmHF"
      }
    },
    {
      "cell_type": "code",
      "source": [
        "hydrogen = schrodinger.subs(V, -e/(4*sp.pi*ɛ_0*r))\n",
        "hydrogen"
      ],
      "metadata": {
        "colab": {
          "base_uri": "https://localhost:8080/",
          "height": 66
        },
        "id": "vprXO64Lg82m",
        "outputId": "62d32458-5a8b-4405-96ba-224da8a46e18"
      },
      "execution_count": 135,
      "outputs": [
        {
          "output_type": "execute_result",
          "data": {
            "text/plain": [
              "Eq(I*ℏ*Derivative(Ψ(t, r, θ, φ), t), -e*Ψ(t, r, θ, φ)/(4*pi*r*ɛ_0) - ℏ**2*Derivative(r**2*Derivative(Ψ(t, r, θ, φ), r), r)/(2*r**2*μ) - ℏ**2*Derivative(sin(θ)*Derivative(Ψ(t, r, θ, φ), θ), θ)/(2*r**2*μ*sin(θ)) - ℏ**2*Derivative(Ψ(t, r, θ, φ), (φ, 2))/(2*r**2*μ*sin(θ)**2))"
            ],
            "text/latex": "$\\displaystyle i ℏ \\frac{\\partial}{\\partial t} Ψ{\\left(t,r,θ,φ \\right)} = - \\frac{e Ψ{\\left(t,r,θ,φ \\right)}}{4 \\pi r ɛ_{0}} - \\frac{ℏ^{2} \\frac{\\partial}{\\partial r} r^{2} \\frac{\\partial}{\\partial r} Ψ{\\left(t,r,θ,φ \\right)}}{2 r^{2} μ} - \\frac{ℏ^{2} \\frac{\\partial}{\\partial θ} \\sin{\\left(θ \\right)} \\frac{\\partial}{\\partial θ} Ψ{\\left(t,r,θ,φ \\right)}}{2 r^{2} μ \\sin{\\left(θ \\right)}} - \\frac{ℏ^{2} \\frac{\\partial^{2}}{\\partial φ^{2}} Ψ{\\left(t,r,θ,φ \\right)}}{2 r^{2} μ \\sin^{2}{\\left(θ \\right)}}$"
          },
          "metadata": {},
          "execution_count": 135
        }
      ]
    },
    {
      "cell_type": "markdown",
      "source": [
        "### Neural Complex Encoding"
      ],
      "metadata": {
        "id": "pua5cbYom3md"
      }
    },
    {
      "cell_type": "markdown",
      "source": [
        "One important characteristic of neural networks is that they *only* work with real numbers as input and output data. This means that any complex-valued output, such as a wave function in quantum mechanics, must be separated into its real and imaginary components.\n",
        "\n",
        "In quantum mechanics, the wave function describes the probability distribution of a particle's position and momentum. It is a complex-valued function, meaning it has both a real and imaginary part. However, neural networks can only work with real numbers, so the wave function must be split into its real and imaginary components. This is done by taking the real part of the wave function and the imaginary part of the wave function, which are then treated as separate outputs to the neural network.\n",
        "\n",
        "\\begin{align}\n",
        "Ψ(t,r,θ,φ)=Ψ_{re}(t,r,θ,φ)+i Ψ_{im}(t,r,θ,φ)\n",
        "\\end{align}\n",
        "\n",
        "Where:\n",
        "\n",
        "\\begin{align}\n",
        "Ψ(t,r,θ,φ): \\mathbb{R}^4 →\\mathbb{C}\n",
        "\\end{align}\n",
        "\n",
        "\\begin{align}\n",
        "Ψ_{re}(t,r,θ,φ): \\mathbb{R}^4 →\\mathbb{R}\n",
        "\\end{align}\n",
        "\n",
        "\\begin{align}\n",
        "Ψ_{im}(t,r,θ,φ): \\mathbb{R}^4 →\\mathbb{R}\n",
        "\\end{align}\n",
        "\n",
        "\n",
        "By splitting the wave function into its real and imaginary parts, the neural network can effectively process the information contained within it. The real and imaginary components can be analyzed separately and combined to generate a complete understanding of the wave function. This approach allows neural networks to solve complex problems in quantum mechanics and other fields that require the analysis of complex-valued data."
      ],
      "metadata": {
        "id": "I4oyC085m6-G"
      }
    },
    {
      "cell_type": "markdown",
      "source": [
        "Taking the equation of the hydrogen atom and substituting the previous equation:"
      ],
      "metadata": {
        "id": "5N5WoUsnpMiG"
      }
    },
    {
      "cell_type": "code",
      "source": [
        "hydrogen = hydrogen.subs(Ψ,Ψ_re+i*Ψ_im)\n",
        "hydrogen"
      ],
      "metadata": {
        "colab": {
          "base_uri": "https://localhost:8080/",
          "height": 108
        },
        "id": "E1sM6t2tm0IZ",
        "outputId": "53029b8d-2ea0-4c0a-a403-fe6461713e42"
      },
      "execution_count": 136,
      "outputs": [
        {
          "output_type": "execute_result",
          "data": {
            "text/plain": [
              "Eq(I*ℏ*Derivative(I*Ψ_im(t, r, θ, φ) + Ψ_re(t, r, θ, φ), t), -e*(I*Ψ_im(t, r, θ, φ) + Ψ_re(t, r, θ, φ))/(4*pi*r*ɛ_0) - ℏ**2*Derivative(r**2*Derivative(I*Ψ_im(t, r, θ, φ) + Ψ_re(t, r, θ, φ), r), r)/(2*r**2*μ) - ℏ**2*Derivative(sin(θ)*Derivative(I*Ψ_im(t, r, θ, φ) + Ψ_re(t, r, θ, φ), θ), θ)/(2*r**2*μ*sin(θ)) - ℏ**2*Derivative(I*Ψ_im(t, r, θ, φ) + Ψ_re(t, r, θ, φ), (φ, 2))/(2*r**2*μ*sin(θ)**2))"
            ],
            "text/latex": "$\\displaystyle i ℏ \\frac{\\partial}{\\partial t} \\left(i \\operatorname{Ψ_{im}}{\\left(t,r,θ,φ \\right)} + \\operatorname{Ψ_{re}}{\\left(t,r,θ,φ \\right)}\\right) = - \\frac{e \\left(i \\operatorname{Ψ_{im}}{\\left(t,r,θ,φ \\right)} + \\operatorname{Ψ_{re}}{\\left(t,r,θ,φ \\right)}\\right)}{4 \\pi r ɛ_{0}} - \\frac{ℏ^{2} \\frac{\\partial}{\\partial r} r^{2} \\frac{\\partial}{\\partial r} \\left(i \\operatorname{Ψ_{im}}{\\left(t,r,θ,φ \\right)} + \\operatorname{Ψ_{re}}{\\left(t,r,θ,φ \\right)}\\right)}{2 r^{2} μ} - \\frac{ℏ^{2} \\frac{\\partial}{\\partial θ} \\sin{\\left(θ \\right)} \\frac{\\partial}{\\partial θ} \\left(i \\operatorname{Ψ_{im}}{\\left(t,r,θ,φ \\right)} + \\operatorname{Ψ_{re}}{\\left(t,r,θ,φ \\right)}\\right)}{2 r^{2} μ \\sin{\\left(θ \\right)}} - \\frac{ℏ^{2} \\frac{\\partial^{2}}{\\partial φ^{2}} \\left(i \\operatorname{Ψ_{im}}{\\left(t,r,θ,φ \\right)} + \\operatorname{Ψ_{re}}{\\left(t,r,θ,φ \\right)}\\right)}{2 r^{2} μ \\sin^{2}{\\left(θ \\right)}}$"
          },
          "metadata": {},
          "execution_count": 136
        }
      ]
    },
    {
      "cell_type": "markdown",
      "source": [
        "Let's do the multiplications and other operations:"
      ],
      "metadata": {
        "id": "JOVlWa8DqOuO"
      }
    },
    {
      "cell_type": "code",
      "source": [
        "hydrogen = hydrogen.doit().expand()\n",
        "hydrogen"
      ],
      "metadata": {
        "colab": {
          "base_uri": "https://localhost:8080/",
          "height": 156
        },
        "id": "5_QxfxIZpxQJ",
        "outputId": "e48a2fb2-16a8-4afa-e188-3144e3a8c26c"
      },
      "execution_count": 137,
      "outputs": [
        {
          "output_type": "execute_result",
          "data": {
            "text/plain": [
              "Eq(-ℏ*Derivative(Ψ_im(t, r, θ, φ), t) + I*ℏ*Derivative(Ψ_re(t, r, θ, φ), t), -I*e*Ψ_im(t, r, θ, φ)/(4*pi*r*ɛ_0) - e*Ψ_re(t, r, θ, φ)/(4*pi*r*ɛ_0) - I*ℏ**2*Derivative(Ψ_im(t, r, θ, φ), (r, 2))/(2*μ) - ℏ**2*Derivative(Ψ_re(t, r, θ, φ), (r, 2))/(2*μ) - I*ℏ**2*Derivative(Ψ_im(t, r, θ, φ), r)/(r*μ) - ℏ**2*Derivative(Ψ_re(t, r, θ, φ), r)/(r*μ) - I*ℏ**2*Derivative(Ψ_im(t, r, θ, φ), (θ, 2))/(2*r**2*μ) - ℏ**2*Derivative(Ψ_re(t, r, θ, φ), (θ, 2))/(2*r**2*μ) - I*ℏ**2*cos(θ)*Derivative(Ψ_im(t, r, θ, φ), θ)/(2*r**2*μ*sin(θ)) - ℏ**2*cos(θ)*Derivative(Ψ_re(t, r, θ, φ), θ)/(2*r**2*μ*sin(θ)) - I*ℏ**2*Derivative(Ψ_im(t, r, θ, φ), (φ, 2))/(2*r**2*μ*sin(θ)**2) - ℏ**2*Derivative(Ψ_re(t, r, θ, φ), (φ, 2))/(2*r**2*μ*sin(θ)**2))"
            ],
            "text/latex": "$\\displaystyle - ℏ \\frac{\\partial}{\\partial t} \\operatorname{Ψ_{im}}{\\left(t,r,θ,φ \\right)} + i ℏ \\frac{\\partial}{\\partial t} \\operatorname{Ψ_{re}}{\\left(t,r,θ,φ \\right)} = - \\frac{i e \\operatorname{Ψ_{im}}{\\left(t,r,θ,φ \\right)}}{4 \\pi r ɛ_{0}} - \\frac{e \\operatorname{Ψ_{re}}{\\left(t,r,θ,φ \\right)}}{4 \\pi r ɛ_{0}} - \\frac{i ℏ^{2} \\frac{\\partial^{2}}{\\partial r^{2}} \\operatorname{Ψ_{im}}{\\left(t,r,θ,φ \\right)}}{2 μ} - \\frac{ℏ^{2} \\frac{\\partial^{2}}{\\partial r^{2}} \\operatorname{Ψ_{re}}{\\left(t,r,θ,φ \\right)}}{2 μ} - \\frac{i ℏ^{2} \\frac{\\partial}{\\partial r} \\operatorname{Ψ_{im}}{\\left(t,r,θ,φ \\right)}}{r μ} - \\frac{ℏ^{2} \\frac{\\partial}{\\partial r} \\operatorname{Ψ_{re}}{\\left(t,r,θ,φ \\right)}}{r μ} - \\frac{i ℏ^{2} \\frac{\\partial^{2}}{\\partial θ^{2}} \\operatorname{Ψ_{im}}{\\left(t,r,θ,φ \\right)}}{2 r^{2} μ} - \\frac{ℏ^{2} \\frac{\\partial^{2}}{\\partial θ^{2}} \\operatorname{Ψ_{re}}{\\left(t,r,θ,φ \\right)}}{2 r^{2} μ} - \\frac{i ℏ^{2} \\cos{\\left(θ \\right)} \\frac{\\partial}{\\partial θ} \\operatorname{Ψ_{im}}{\\left(t,r,θ,φ \\right)}}{2 r^{2} μ \\sin{\\left(θ \\right)}} - \\frac{ℏ^{2} \\cos{\\left(θ \\right)} \\frac{\\partial}{\\partial θ} \\operatorname{Ψ_{re}}{\\left(t,r,θ,φ \\right)}}{2 r^{2} μ \\sin{\\left(θ \\right)}} - \\frac{i ℏ^{2} \\frac{\\partial^{2}}{\\partial φ^{2}} \\operatorname{Ψ_{im}}{\\left(t,r,θ,φ \\right)}}{2 r^{2} μ \\sin^{2}{\\left(θ \\right)}} - \\frac{ℏ^{2} \\frac{\\partial^{2}}{\\partial φ^{2}} \\operatorname{Ψ_{re}}{\\left(t,r,θ,φ \\right)}}{2 r^{2} μ \\sin^{2}{\\left(θ \\right)}}$"
          },
          "metadata": {},
          "execution_count": 137
        }
      ]
    },
    {
      "cell_type": "markdown",
      "source": [
        "Let's now separate both real part and imaginary parts of this equation. For this, let's write a function that receives the equation of format:\n",
        "\n",
        "\\begin{align}\n",
        "A+Bi = C+Di\n",
        "\\end{align}\n",
        "\n",
        "And returns:\n",
        "\n",
        "\\begin{align}\n",
        "A - C = 0\n",
        "\\end{align}\n",
        "\n",
        "\\begin{align}\n",
        "B - D = 0\n",
        "\\end{align}"
      ],
      "metadata": {
        "id": "i7iTbxMfqW2S"
      }
    },
    {
      "cell_type": "code",
      "source": [
        "def split_complex(equation):\n",
        "\n",
        "    \"\"\"\n",
        "\n",
        "    Returns a tuple of two equations representing the real and imaginary parts\n",
        "    of the input equation, which is assumed to involve complex numbers.\n",
        "\n",
        "    Parameters\n",
        "    ----------\n",
        "    equation : sympy.core.relational.Equality\n",
        "        The equation to extract the real and imaginary parts from.\n",
        "\n",
        "    Returns\n",
        "    -------\n",
        "    (real_equation, imag_equation): tuple of sympy.core.relational.Equality\n",
        "        A tuple containing two equations representing the real and imaginary\n",
        "        parts of the input equation, respectively.\n",
        "\n",
        "    \"\"\"\n",
        "    \n",
        "    # Extract the real and imaginary parts of the left-hand side minus the right-hand side\n",
        "    real_equation = sp.re(equation.lhs - equation.rhs)\n",
        "    imag_equation = sp.im(equation.lhs - equation.rhs)\n",
        "    \n",
        "    # Replace any real part of a derivative that has an imaginary expression with the real part\n",
        "    real_equation = real_equation.replace(lambda x: isinstance(x, sp.re) and\n",
        "                                           x.args[0].is_Derivative and\n",
        "                                           x.args[0].expr.is_real,\n",
        "                                           lambda x: x.args[0])\n",
        "    \n",
        "    imag_equation = imag_equation.replace(lambda x: isinstance(x, sp.re) and\n",
        "                                           x.args[0].is_Derivative and\n",
        "                                           x.args[0].expr.is_real,\n",
        "                                           lambda x: x.args[0])\n",
        "    \n",
        "    # Replace any real part of a derivative that does not have an imaginary expression with 0\n",
        "    real_equation = real_equation.replace(lambda x: isinstance(x, sp.im) and\n",
        "                                           x.args[0].is_Derivative and\n",
        "                                           x.args[0].expr.is_real,\n",
        "                                           lambda x: 0)\n",
        "    \n",
        "    imag_equation = imag_equation.replace(lambda x: isinstance(x, sp.im) and\n",
        "                                           x.args[0].is_Derivative and\n",
        "                                           x.args[0].expr.is_real,\n",
        "                                           lambda x: 0)\n",
        "    \n",
        "    # Create new equations by setting the real and imaginary parts to 0\n",
        "    real_equation = sp.Eq(real_equation, 0)\n",
        "    imag_equation = sp.Eq(imag_equation, 0)\n",
        "    \n",
        "    # Return a tuple containing the real and imaginary part equations, respectively\n",
        "    return (real_equation, imag_equation)"
      ],
      "metadata": {
        "id": "KJNE_iOSvXUi"
      },
      "execution_count": 138,
      "outputs": []
    },
    {
      "cell_type": "code",
      "source": [
        "real_hydrogen_equation, imag_hydrogen_equation = split_complex(hydrogen)"
      ],
      "metadata": {
        "id": "XLkAYcVAvqt-"
      },
      "execution_count": 139,
      "outputs": []
    },
    {
      "cell_type": "markdown",
      "source": [
        "So, our neural network must satisfy the equations:"
      ],
      "metadata": {
        "id": "emZl4tjk5Mr4"
      }
    },
    {
      "cell_type": "code",
      "source": [
        "real_hydrogen_equation"
      ],
      "metadata": {
        "colab": {
          "base_uri": "https://localhost:8080/",
          "height": 112
        },
        "id": "lcVsLoJCxXqa",
        "outputId": "563f597b-a452-4d24-86e2-11273cbb687b"
      },
      "execution_count": 140,
      "outputs": [
        {
          "output_type": "execute_result",
          "data": {
            "text/plain": [
              "Eq(e*Ψ_re(t, r, θ, φ)/(4*pi*r*ɛ_0) - ℏ*Derivative(Ψ_im(t, r, θ, φ), t) + ℏ**2*Derivative(Ψ_re(t, r, θ, φ), (r, 2))/(2*μ) + ℏ**2*Derivative(Ψ_re(t, r, θ, φ), r)/(r*μ) + ℏ**2*Derivative(Ψ_re(t, r, θ, φ), (θ, 2))/(2*r**2*μ) + ℏ**2*cos(θ)*Derivative(Ψ_re(t, r, θ, φ), θ)/(2*r**2*μ*sin(θ)) + ℏ**2*Derivative(Ψ_re(t, r, θ, φ), (φ, 2))/(2*r**2*μ*sin(θ)**2), 0)"
            ],
            "text/latex": "$\\displaystyle \\frac{e \\operatorname{Ψ_{re}}{\\left(t,r,θ,φ \\right)}}{4 \\pi r ɛ_{0}} - ℏ \\frac{\\partial}{\\partial t} \\operatorname{Ψ_{im}}{\\left(t,r,θ,φ \\right)} + \\frac{ℏ^{2} \\frac{\\partial^{2}}{\\partial r^{2}} \\operatorname{Ψ_{re}}{\\left(t,r,θ,φ \\right)}}{2 μ} + \\frac{ℏ^{2} \\frac{\\partial}{\\partial r} \\operatorname{Ψ_{re}}{\\left(t,r,θ,φ \\right)}}{r μ} + \\frac{ℏ^{2} \\frac{\\partial^{2}}{\\partial θ^{2}} \\operatorname{Ψ_{re}}{\\left(t,r,θ,φ \\right)}}{2 r^{2} μ} + \\frac{ℏ^{2} \\cos{\\left(θ \\right)} \\frac{\\partial}{\\partial θ} \\operatorname{Ψ_{re}}{\\left(t,r,θ,φ \\right)}}{2 r^{2} μ \\sin{\\left(θ \\right)}} + \\frac{ℏ^{2} \\frac{\\partial^{2}}{\\partial φ^{2}} \\operatorname{Ψ_{re}}{\\left(t,r,θ,φ \\right)}}{2 r^{2} μ \\sin^{2}{\\left(θ \\right)}} = 0$"
          },
          "metadata": {},
          "execution_count": 140
        }
      ]
    },
    {
      "cell_type": "code",
      "source": [
        "imag_hydrogen_equation"
      ],
      "metadata": {
        "colab": {
          "base_uri": "https://localhost:8080/",
          "height": 112
        },
        "id": "AxjERiER5TMG",
        "outputId": "db930dfd-14c9-4a71-dbe3-87daaedabb96"
      },
      "execution_count": 141,
      "outputs": [
        {
          "output_type": "execute_result",
          "data": {
            "text/plain": [
              "Eq(e*Ψ_im(t, r, θ, φ)/(4*pi*r*ɛ_0) + ℏ*Derivative(Ψ_re(t, r, θ, φ), t) + ℏ**2*Derivative(Ψ_im(t, r, θ, φ), (r, 2))/(2*μ) + ℏ**2*Derivative(Ψ_im(t, r, θ, φ), r)/(r*μ) + ℏ**2*Derivative(Ψ_im(t, r, θ, φ), (θ, 2))/(2*r**2*μ) + ℏ**2*cos(θ)*Derivative(Ψ_im(t, r, θ, φ), θ)/(2*r**2*μ*sin(θ)) + ℏ**2*Derivative(Ψ_im(t, r, θ, φ), (φ, 2))/(2*r**2*μ*sin(θ)**2), 0)"
            ],
            "text/latex": "$\\displaystyle \\frac{e \\operatorname{Ψ_{im}}{\\left(t,r,θ,φ \\right)}}{4 \\pi r ɛ_{0}} + ℏ \\frac{\\partial}{\\partial t} \\operatorname{Ψ_{re}}{\\left(t,r,θ,φ \\right)} + \\frac{ℏ^{2} \\frac{\\partial^{2}}{\\partial r^{2}} \\operatorname{Ψ_{im}}{\\left(t,r,θ,φ \\right)}}{2 μ} + \\frac{ℏ^{2} \\frac{\\partial}{\\partial r} \\operatorname{Ψ_{im}}{\\left(t,r,θ,φ \\right)}}{r μ} + \\frac{ℏ^{2} \\frac{\\partial^{2}}{\\partial θ^{2}} \\operatorname{Ψ_{im}}{\\left(t,r,θ,φ \\right)}}{2 r^{2} μ} + \\frac{ℏ^{2} \\cos{\\left(θ \\right)} \\frac{\\partial}{\\partial θ} \\operatorname{Ψ_{im}}{\\left(t,r,θ,φ \\right)}}{2 r^{2} μ \\sin{\\left(θ \\right)}} + \\frac{ℏ^{2} \\frac{\\partial^{2}}{\\partial φ^{2}} \\operatorname{Ψ_{im}}{\\left(t,r,θ,φ \\right)}}{2 r^{2} μ \\sin^{2}{\\left(θ \\right)}} = 0$"
          },
          "metadata": {},
          "execution_count": 141
        }
      ]
    },
    {
      "cell_type": "markdown",
      "source": [
        "### Hartree Atomic Units"
      ],
      "metadata": {
        "id": "KaMZo-XZ6-09"
      }
    },
    {
      "cell_type": "markdown",
      "source": [
        "The Hartree atomic units system is a natural system of units used in quantum mechanics that simplifies the mathematical expressions involved in solving the Schrödinger equation for atoms and molecules. By setting fundamental physical constants to unity, the equations become simpler and easier to solve numerically, which is particularly useful in numerical quantum mechanics. The use of Hartree atomic units provides a more intuitive understanding of the physics involved in the behavior of atoms and molecules, and is widely used in theoretical and computational studies in the field of quantum mechanics. It has become an essential tool in the development of new materials and technologies. For more information, [Hartree Atomic Units](https://en.wikipedia.org/wiki/Hartree_atomic_units#:~:text=The%20Hartree%20atomic%20units%20are,after%20the%20physicist%20Douglas%20Hartree.).\n",
        "\n",
        "In this system, we have:\n",
        "\\begin{align}\n",
        "  ℏ = 1 \\quad \\text{(Reduced Planck Constant)}\n",
        "\\end{align}\n",
        "\\begin{align}\n",
        "  e = 1 \\quad \\text{(Elementary Charge)}\n",
        "\\end{align}\n",
        "\\begin{align}\n",
        "  m_e = 1 \\quad \\text{(Electron Rest Mass)}\n",
        "\\end{align}\n",
        "\\begin{align}\n",
        "  a_0 = 1 \\quad \\text{(Bohr Radius)}\n",
        "\\end{align}\n",
        "\n",
        "As consequences of these definitions, we also have:\n",
        "\n",
        "\\begin{align}\n",
        "   ɛ_0 = \\frac{1}{4 π} \\quad \\text{(Permittivity of Free Space)}\n",
        "\\end{align}"
      ],
      "metadata": {
        "id": "pUV8ym0R71tC"
      }
    },
    {
      "cell_type": "markdown",
      "source": [
        "Considering that the mass of a proton satisfies:\n",
        "\n",
        "\\begin{align}\n",
        "m_p ≈ 1836.1527 m_e\n",
        "\\end{align}"
      ],
      "metadata": {
        "id": "P21tOQ-7_LJ6"
      }
    },
    {
      "cell_type": "markdown",
      "source": [
        "With this, we can find the reduced mass of the system $\\mu$:\n",
        "\n",
        "\\begin{align}\n",
        "μ = \\frac{m_p \\cdot m_e}{m_p + m_e} \\approx 0.999 \\cdot m_e \\approx 1\\cdot m_e \n",
        "\\end{align}\n",
        "\n",
        "With this approximation, we can considerer:\n",
        "\n",
        "\\begin{align}\n",
        "μ \\approx 1\n",
        "\\end{align}"
      ],
      "metadata": {
        "id": "XgWZ_Ymt-_UV"
      }
    },
    {
      "cell_type": "markdown",
      "source": [
        "Doing the substitution:"
      ],
      "metadata": {
        "id": "uMnwueD3Bvzc"
      }
    },
    {
      "cell_type": "code",
      "source": [
        "real_hydrogen_equation = real_hydrogen_equation.subs({e:1,ℏ:1,μ:1,ɛ_0:1/(4*sp.pi)})\n",
        "real_hydrogen_equation"
      ],
      "metadata": {
        "colab": {
          "base_uri": "https://localhost:8080/",
          "height": 112
        },
        "id": "HGsMfO6W5nOd",
        "outputId": "17a22746-446f-4210-db43-886a7ec819bf"
      },
      "execution_count": 150,
      "outputs": [
        {
          "output_type": "execute_result",
          "data": {
            "text/plain": [
              "Eq(-Derivative(Ψ_im(t, r, θ, φ), t) + Derivative(Ψ_re(t, r, θ, φ), (r, 2))/2 + Ψ_re(t, r, θ, φ)/r + Derivative(Ψ_re(t, r, θ, φ), r)/r + Derivative(Ψ_re(t, r, θ, φ), (θ, 2))/(2*r**2) + cos(θ)*Derivative(Ψ_re(t, r, θ, φ), θ)/(2*r**2*sin(θ)) + Derivative(Ψ_re(t, r, θ, φ), (φ, 2))/(2*r**2*sin(θ)**2), 0)"
            ],
            "text/latex": "$\\displaystyle - \\frac{\\partial}{\\partial t} \\operatorname{Ψ_{im}}{\\left(t,r,θ,φ \\right)} + \\frac{\\frac{\\partial^{2}}{\\partial r^{2}} \\operatorname{Ψ_{re}}{\\left(t,r,θ,φ \\right)}}{2} + \\frac{\\operatorname{Ψ_{re}}{\\left(t,r,θ,φ \\right)}}{r} + \\frac{\\frac{\\partial}{\\partial r} \\operatorname{Ψ_{re}}{\\left(t,r,θ,φ \\right)}}{r} + \\frac{\\frac{\\partial^{2}}{\\partial θ^{2}} \\operatorname{Ψ_{re}}{\\left(t,r,θ,φ \\right)}}{2 r^{2}} + \\frac{\\cos{\\left(θ \\right)} \\frac{\\partial}{\\partial θ} \\operatorname{Ψ_{re}}{\\left(t,r,θ,φ \\right)}}{2 r^{2} \\sin{\\left(θ \\right)}} + \\frac{\\frac{\\partial^{2}}{\\partial φ^{2}} \\operatorname{Ψ_{re}}{\\left(t,r,θ,φ \\right)}}{2 r^{2} \\sin^{2}{\\left(θ \\right)}} = 0$"
          },
          "metadata": {},
          "execution_count": 150
        }
      ]
    },
    {
      "cell_type": "code",
      "source": [
        "imag_hydrogen_equation = imag_hydrogen_equation.subs({e:1,ℏ:1,μ:1,ɛ_0:1/(4*sp.pi)})\n",
        "imag_hydrogen_equation"
      ],
      "metadata": {
        "colab": {
          "base_uri": "https://localhost:8080/",
          "height": 112
        },
        "id": "RI6WpabPAs_A",
        "outputId": "02f7917d-72eb-4e81-9b5a-8283b77f5a83"
      },
      "execution_count": 151,
      "outputs": [
        {
          "output_type": "execute_result",
          "data": {
            "text/plain": [
              "Eq(Derivative(Ψ_im(t, r, θ, φ), (r, 2))/2 + Derivative(Ψ_re(t, r, θ, φ), t) + Ψ_im(t, r, θ, φ)/r + Derivative(Ψ_im(t, r, θ, φ), r)/r + Derivative(Ψ_im(t, r, θ, φ), (θ, 2))/(2*r**2) + cos(θ)*Derivative(Ψ_im(t, r, θ, φ), θ)/(2*r**2*sin(θ)) + Derivative(Ψ_im(t, r, θ, φ), (φ, 2))/(2*r**2*sin(θ)**2), 0)"
            ],
            "text/latex": "$\\displaystyle \\frac{\\frac{\\partial^{2}}{\\partial r^{2}} \\operatorname{Ψ_{im}}{\\left(t,r,θ,φ \\right)}}{2} + \\frac{\\partial}{\\partial t} \\operatorname{Ψ_{re}}{\\left(t,r,θ,φ \\right)} + \\frac{\\operatorname{Ψ_{im}}{\\left(t,r,θ,φ \\right)}}{r} + \\frac{\\frac{\\partial}{\\partial r} \\operatorname{Ψ_{im}}{\\left(t,r,θ,φ \\right)}}{r} + \\frac{\\frac{\\partial^{2}}{\\partial θ^{2}} \\operatorname{Ψ_{im}}{\\left(t,r,θ,φ \\right)}}{2 r^{2}} + \\frac{\\cos{\\left(θ \\right)} \\frac{\\partial}{\\partial θ} \\operatorname{Ψ_{im}}{\\left(t,r,θ,φ \\right)}}{2 r^{2} \\sin{\\left(θ \\right)}} + \\frac{\\frac{\\partial^{2}}{\\partial φ^{2}} \\operatorname{Ψ_{im}}{\\left(t,r,θ,φ \\right)}}{2 r^{2} \\sin^{2}{\\left(θ \\right)}} = 0$"
          },
          "metadata": {},
          "execution_count": 151
        }
      ]
    },
    {
      "cell_type": "markdown",
      "source": [
        "### Avoiding mathematical indeterminacies in the equations"
      ],
      "metadata": {
        "id": "fXkwvBBNDNo5"
      }
    },
    {
      "cell_type": "markdown",
      "source": [
        "To avoid mathematical difficulties and errors when dealing with equations that involve division by radial or angular factors in quantum mechanics, a common technique is to multiply both sides of the equation by the reciprocal of the factor, which cancels out the denominator and simplifies the expression. This technique is widely used in the study of atoms and molecules, where the Schrödinger equation involves terms that are proportional to $r^2$ and $sin^2(θ)$. By applying this approach, numerical calculations are made more accurate and reliable, thus ensuring the validity of results."
      ],
      "metadata": {
        "id": "3kc72R5WDjNU"
      }
    },
    {
      "cell_type": "markdown",
      "source": [
        "Then, let's multiply the real equation by the term $2 r^2 sin^2(θ)$:"
      ],
      "metadata": {
        "id": "Mrg8cI5bEtJK"
      }
    },
    {
      "cell_type": "code",
      "source": [
        "real_hydrogen_equation = sp.Eq((real_hydrogen_equation.lhs*(2*(r**2)*(sp.sin(θ)**2))).expand(),0)\n",
        "real_hydrogen_equation"
      ],
      "metadata": {
        "colab": {
          "base_uri": "https://localhost:8080/",
          "height": 94
        },
        "id": "SHxjeEYODGBD",
        "outputId": "86b8c79b-9991-4878-a3a5-d37ca6a83274"
      },
      "execution_count": 157,
      "outputs": [
        {
          "output_type": "execute_result",
          "data": {
            "text/plain": [
              "Eq(-2*r**2*sin(θ)**2*Derivative(Ψ_im(t, r, θ, φ), t) + r**2*sin(θ)**2*Derivative(Ψ_re(t, r, θ, φ), (r, 2)) + 2*r*Ψ_re(t, r, θ, φ)*sin(θ)**2 + 2*r*sin(θ)**2*Derivative(Ψ_re(t, r, θ, φ), r) + sin(θ)**2*Derivative(Ψ_re(t, r, θ, φ), (θ, 2)) + sin(θ)*cos(θ)*Derivative(Ψ_re(t, r, θ, φ), θ) + Derivative(Ψ_re(t, r, θ, φ), (φ, 2)), 0)"
            ],
            "text/latex": "$\\displaystyle - 2 r^{2} \\sin^{2}{\\left(θ \\right)} \\frac{\\partial}{\\partial t} \\operatorname{Ψ_{im}}{\\left(t,r,θ,φ \\right)} + r^{2} \\sin^{2}{\\left(θ \\right)} \\frac{\\partial^{2}}{\\partial r^{2}} \\operatorname{Ψ_{re}}{\\left(t,r,θ,φ \\right)} + 2 r \\operatorname{Ψ_{re}}{\\left(t,r,θ,φ \\right)} \\sin^{2}{\\left(θ \\right)} + 2 r \\sin^{2}{\\left(θ \\right)} \\frac{\\partial}{\\partial r} \\operatorname{Ψ_{re}}{\\left(t,r,θ,φ \\right)} + \\sin^{2}{\\left(θ \\right)} \\frac{\\partial^{2}}{\\partial θ^{2}} \\operatorname{Ψ_{re}}{\\left(t,r,θ,φ \\right)} + \\sin{\\left(θ \\right)} \\cos{\\left(θ \\right)} \\frac{\\partial}{\\partial θ} \\operatorname{Ψ_{re}}{\\left(t,r,θ,φ \\right)} + \\frac{\\partial^{2}}{\\partial φ^{2}} \\operatorname{Ψ_{re}}{\\left(t,r,θ,φ \\right)} = 0$"
          },
          "metadata": {},
          "execution_count": 157
        }
      ]
    },
    {
      "cell_type": "markdown",
      "source": [
        "Doing the same multiplication with the imaginary equation:"
      ],
      "metadata": {
        "id": "OlqS62oWFhkB"
      }
    },
    {
      "cell_type": "code",
      "source": [
        "imag_hydrogen_equation = sp.Eq((imag_hydrogen_equation.lhs*(2*(r**2)*(sp.sin(θ)**2))).expand(),0)\n",
        "imag_hydrogen_equation"
      ],
      "metadata": {
        "colab": {
          "base_uri": "https://localhost:8080/",
          "height": 94
        },
        "id": "B4ePlstYE9ZP",
        "outputId": "e3535b57-e1d8-4a1f-b579-36d1f4f278f2"
      },
      "execution_count": 158,
      "outputs": [
        {
          "output_type": "execute_result",
          "data": {
            "text/plain": [
              "Eq(r**2*sin(θ)**2*Derivative(Ψ_im(t, r, θ, φ), (r, 2)) + 2*r**2*sin(θ)**2*Derivative(Ψ_re(t, r, θ, φ), t) + 2*r*Ψ_im(t, r, θ, φ)*sin(θ)**2 + 2*r*sin(θ)**2*Derivative(Ψ_im(t, r, θ, φ), r) + sin(θ)**2*Derivative(Ψ_im(t, r, θ, φ), (θ, 2)) + sin(θ)*cos(θ)*Derivative(Ψ_im(t, r, θ, φ), θ) + Derivative(Ψ_im(t, r, θ, φ), (φ, 2)), 0)"
            ],
            "text/latex": "$\\displaystyle r^{2} \\sin^{2}{\\left(θ \\right)} \\frac{\\partial^{2}}{\\partial r^{2}} \\operatorname{Ψ_{im}}{\\left(t,r,θ,φ \\right)} + 2 r^{2} \\sin^{2}{\\left(θ \\right)} \\frac{\\partial}{\\partial t} \\operatorname{Ψ_{re}}{\\left(t,r,θ,φ \\right)} + 2 r \\operatorname{Ψ_{im}}{\\left(t,r,θ,φ \\right)} \\sin^{2}{\\left(θ \\right)} + 2 r \\sin^{2}{\\left(θ \\right)} \\frac{\\partial}{\\partial r} \\operatorname{Ψ_{im}}{\\left(t,r,θ,φ \\right)} + \\sin^{2}{\\left(θ \\right)} \\frac{\\partial^{2}}{\\partial θ^{2}} \\operatorname{Ψ_{im}}{\\left(t,r,θ,φ \\right)} + \\sin{\\left(θ \\right)} \\cos{\\left(θ \\right)} \\frac{\\partial}{\\partial θ} \\operatorname{Ψ_{im}}{\\left(t,r,θ,φ \\right)} + \\frac{\\partial^{2}}{\\partial φ^{2}} \\operatorname{Ψ_{im}}{\\left(t,r,θ,φ \\right)} = 0$"
          },
          "metadata": {},
          "execution_count": 158
        }
      ]
    },
    {
      "cell_type": "markdown",
      "source": [
        "### Final Equations"
      ],
      "metadata": {
        "id": "bCH4ps00K-eJ"
      }
    },
    {
      "cell_type": "markdown",
      "source": [
        "Through the process of equation engineering, we were able to preprocess the equation to the neural network. By simplifying and manipulating mathematical expressions, we uncovered relationships and patterns that revealed the appropriate differential equations necessary for accurate modeling and analysis. These differential equations allowed us to make predictions and explore the behavior of systems over time:"
      ],
      "metadata": {
        "id": "IgXdHiJzNdIi"
      }
    },
    {
      "cell_type": "markdown",
      "source": [
        "* Real Equation:"
      ],
      "metadata": {
        "id": "XUMjfoexO4o8"
      }
    },
    {
      "cell_type": "code",
      "source": [
        "real_hydrogen_equation"
      ],
      "metadata": {
        "colab": {
          "base_uri": "https://localhost:8080/",
          "height": 94
        },
        "id": "LIIXhpmbO7zf",
        "outputId": "4417ea62-159b-421b-9912-8491f0e7b973"
      },
      "execution_count": 166,
      "outputs": [
        {
          "output_type": "execute_result",
          "data": {
            "text/plain": [
              "Eq(-2*r**2*sin(θ)**2*Derivative(Ψ_im(t, r, θ, φ), t) + r**2*sin(θ)**2*Derivative(Ψ_re(t, r, θ, φ), (r, 2)) + 2*r*Ψ_re(t, r, θ, φ)*sin(θ)**2 + 2*r*sin(θ)**2*Derivative(Ψ_re(t, r, θ, φ), r) + sin(θ)**2*Derivative(Ψ_re(t, r, θ, φ), (θ, 2)) + sin(θ)*cos(θ)*Derivative(Ψ_re(t, r, θ, φ), θ) + Derivative(Ψ_re(t, r, θ, φ), (φ, 2)), 0)"
            ],
            "text/latex": "$\\displaystyle - 2 r^{2} \\sin^{2}{\\left(θ \\right)} \\frac{\\partial}{\\partial t} \\operatorname{Ψ_{im}}{\\left(t,r,θ,φ \\right)} + r^{2} \\sin^{2}{\\left(θ \\right)} \\frac{\\partial^{2}}{\\partial r^{2}} \\operatorname{Ψ_{re}}{\\left(t,r,θ,φ \\right)} + 2 r \\operatorname{Ψ_{re}}{\\left(t,r,θ,φ \\right)} \\sin^{2}{\\left(θ \\right)} + 2 r \\sin^{2}{\\left(θ \\right)} \\frac{\\partial}{\\partial r} \\operatorname{Ψ_{re}}{\\left(t,r,θ,φ \\right)} + \\sin^{2}{\\left(θ \\right)} \\frac{\\partial^{2}}{\\partial θ^{2}} \\operatorname{Ψ_{re}}{\\left(t,r,θ,φ \\right)} + \\sin{\\left(θ \\right)} \\cos{\\left(θ \\right)} \\frac{\\partial}{\\partial θ} \\operatorname{Ψ_{re}}{\\left(t,r,θ,φ \\right)} + \\frac{\\partial^{2}}{\\partial φ^{2}} \\operatorname{Ψ_{re}}{\\left(t,r,θ,φ \\right)} = 0$"
          },
          "metadata": {},
          "execution_count": 166
        }
      ]
    },
    {
      "cell_type": "markdown",
      "source": [
        "* Imaginary Equation:"
      ],
      "metadata": {
        "id": "EbNpcbjWOz48"
      }
    },
    {
      "cell_type": "code",
      "source": [
        "imag_hydrogen_equation"
      ],
      "metadata": {
        "colab": {
          "base_uri": "https://localhost:8080/",
          "height": 94
        },
        "id": "nFWyjypWNcsw",
        "outputId": "45897793-efc9-4a57-c2cd-be9c999954bc"
      },
      "execution_count": 165,
      "outputs": [
        {
          "output_type": "execute_result",
          "data": {
            "text/plain": [
              "Eq(r**2*sin(θ)**2*Derivative(Ψ_im(t, r, θ, φ), (r, 2)) + 2*r**2*sin(θ)**2*Derivative(Ψ_re(t, r, θ, φ), t) + 2*r*Ψ_im(t, r, θ, φ)*sin(θ)**2 + 2*r*sin(θ)**2*Derivative(Ψ_im(t, r, θ, φ), r) + sin(θ)**2*Derivative(Ψ_im(t, r, θ, φ), (θ, 2)) + sin(θ)*cos(θ)*Derivative(Ψ_im(t, r, θ, φ), θ) + Derivative(Ψ_im(t, r, θ, φ), (φ, 2)), 0)"
            ],
            "text/latex": "$\\displaystyle r^{2} \\sin^{2}{\\left(θ \\right)} \\frac{\\partial^{2}}{\\partial r^{2}} \\operatorname{Ψ_{im}}{\\left(t,r,θ,φ \\right)} + 2 r^{2} \\sin^{2}{\\left(θ \\right)} \\frac{\\partial}{\\partial t} \\operatorname{Ψ_{re}}{\\left(t,r,θ,φ \\right)} + 2 r \\operatorname{Ψ_{im}}{\\left(t,r,θ,φ \\right)} \\sin^{2}{\\left(θ \\right)} + 2 r \\sin^{2}{\\left(θ \\right)} \\frac{\\partial}{\\partial r} \\operatorname{Ψ_{im}}{\\left(t,r,θ,φ \\right)} + \\sin^{2}{\\left(θ \\right)} \\frac{\\partial^{2}}{\\partial θ^{2}} \\operatorname{Ψ_{im}}{\\left(t,r,θ,φ \\right)} + \\sin{\\left(θ \\right)} \\cos{\\left(θ \\right)} \\frac{\\partial}{\\partial θ} \\operatorname{Ψ_{im}}{\\left(t,r,θ,φ \\right)} + \\frac{\\partial^{2}}{\\partial φ^{2}} \\operatorname{Ψ_{im}}{\\left(t,r,θ,φ \\right)} = 0$"
          },
          "metadata": {},
          "execution_count": 165
        }
      ]
    }
  ]
}